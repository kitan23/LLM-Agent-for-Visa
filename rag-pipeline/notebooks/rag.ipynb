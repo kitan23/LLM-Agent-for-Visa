{
 "cells": [
  {
   "cell_type": "code",
   "execution_count": 37,
   "metadata": {},
   "outputs": [
    {
     "name": "stderr",
     "output_type": "stream",
     "text": [
      "huggingface/tokenizers: The current process just got forked, after parallelism has already been used. Disabling parallelism to avoid deadlocks...\n",
      "To disable this warning, you can either:\n",
      "\t- Avoid using `tokenizers` before the fork if possible\n",
      "\t- Explicitly set the environment variable TOKENIZERS_PARALLELISM=(true | false)\n"
     ]
    },
    {
     "name": "stdout",
     "output_type": "stream",
     "text": [
      "Requirement already satisfied: langchain in /Users/kientran/Apps/OPT-RAG/rag-opt/lib/python3.13/site-packages (0.3.24)\n",
      "Requirement already satisfied: langchain-core<1.0.0,>=0.3.55 in /Users/kientran/Apps/OPT-RAG/rag-opt/lib/python3.13/site-packages (from langchain) (0.3.55)\n",
      "Requirement already satisfied: langchain-text-splitters<1.0.0,>=0.3.8 in /Users/kientran/Apps/OPT-RAG/rag-opt/lib/python3.13/site-packages (from langchain) (0.3.8)\n",
      "Requirement already satisfied: langsmith<0.4,>=0.1.17 in /Users/kientran/Apps/OPT-RAG/rag-opt/lib/python3.13/site-packages (from langchain) (0.3.33)\n",
      "Requirement already satisfied: pydantic<3.0.0,>=2.7.4 in /Users/kientran/Apps/OPT-RAG/rag-opt/lib/python3.13/site-packages (from langchain) (2.11.3)\n",
      "Requirement already satisfied: SQLAlchemy<3,>=1.4 in /Users/kientran/Apps/OPT-RAG/rag-opt/lib/python3.13/site-packages (from langchain) (2.0.40)\n",
      "Requirement already satisfied: requests<3,>=2 in /Users/kientran/Apps/OPT-RAG/rag-opt/lib/python3.13/site-packages (from langchain) (2.32.3)\n",
      "Requirement already satisfied: PyYAML>=5.3 in /Users/kientran/Apps/OPT-RAG/rag-opt/lib/python3.13/site-packages (from langchain) (6.0.2)\n",
      "Requirement already satisfied: tenacity!=8.4.0,<10.0.0,>=8.1.0 in /Users/kientran/Apps/OPT-RAG/rag-opt/lib/python3.13/site-packages (from langchain-core<1.0.0,>=0.3.55->langchain) (9.1.2)\n",
      "Requirement already satisfied: jsonpatch<2.0,>=1.33 in /Users/kientran/Apps/OPT-RAG/rag-opt/lib/python3.13/site-packages (from langchain-core<1.0.0,>=0.3.55->langchain) (1.33)\n",
      "Requirement already satisfied: packaging<25,>=23.2 in /Users/kientran/Apps/OPT-RAG/rag-opt/lib/python3.13/site-packages (from langchain-core<1.0.0,>=0.3.55->langchain) (24.2)\n",
      "Requirement already satisfied: typing-extensions>=4.7 in /Users/kientran/Apps/OPT-RAG/rag-opt/lib/python3.13/site-packages (from langchain-core<1.0.0,>=0.3.55->langchain) (4.13.2)\n",
      "Requirement already satisfied: httpx<1,>=0.23.0 in /Users/kientran/Apps/OPT-RAG/rag-opt/lib/python3.13/site-packages (from langsmith<0.4,>=0.1.17->langchain) (0.28.1)\n",
      "Requirement already satisfied: orjson<4.0.0,>=3.9.14 in /Users/kientran/Apps/OPT-RAG/rag-opt/lib/python3.13/site-packages (from langsmith<0.4,>=0.1.17->langchain) (3.10.16)\n",
      "Requirement already satisfied: requests-toolbelt<2.0.0,>=1.0.0 in /Users/kientran/Apps/OPT-RAG/rag-opt/lib/python3.13/site-packages (from langsmith<0.4,>=0.1.17->langchain) (1.0.0)\n",
      "Requirement already satisfied: zstandard<0.24.0,>=0.23.0 in /Users/kientran/Apps/OPT-RAG/rag-opt/lib/python3.13/site-packages (from langsmith<0.4,>=0.1.17->langchain) (0.23.0)\n",
      "Requirement already satisfied: annotated-types>=0.6.0 in /Users/kientran/Apps/OPT-RAG/rag-opt/lib/python3.13/site-packages (from pydantic<3.0.0,>=2.7.4->langchain) (0.7.0)\n",
      "Requirement already satisfied: pydantic-core==2.33.1 in /Users/kientran/Apps/OPT-RAG/rag-opt/lib/python3.13/site-packages (from pydantic<3.0.0,>=2.7.4->langchain) (2.33.1)\n",
      "Requirement already satisfied: typing-inspection>=0.4.0 in /Users/kientran/Apps/OPT-RAG/rag-opt/lib/python3.13/site-packages (from pydantic<3.0.0,>=2.7.4->langchain) (0.4.0)\n",
      "Requirement already satisfied: charset-normalizer<4,>=2 in /Users/kientran/Apps/OPT-RAG/rag-opt/lib/python3.13/site-packages (from requests<3,>=2->langchain) (3.4.1)\n",
      "Requirement already satisfied: idna<4,>=2.5 in /Users/kientran/Apps/OPT-RAG/rag-opt/lib/python3.13/site-packages (from requests<3,>=2->langchain) (3.10)\n",
      "Requirement already satisfied: urllib3<3,>=1.21.1 in /Users/kientran/Apps/OPT-RAG/rag-opt/lib/python3.13/site-packages (from requests<3,>=2->langchain) (2.4.0)\n",
      "Requirement already satisfied: certifi>=2017.4.17 in /Users/kientran/Apps/OPT-RAG/rag-opt/lib/python3.13/site-packages (from requests<3,>=2->langchain) (2025.1.31)\n",
      "Requirement already satisfied: anyio in /Users/kientran/Apps/OPT-RAG/rag-opt/lib/python3.13/site-packages (from httpx<1,>=0.23.0->langsmith<0.4,>=0.1.17->langchain) (4.9.0)\n",
      "Requirement already satisfied: httpcore==1.* in /Users/kientran/Apps/OPT-RAG/rag-opt/lib/python3.13/site-packages (from httpx<1,>=0.23.0->langsmith<0.4,>=0.1.17->langchain) (1.0.8)\n",
      "Requirement already satisfied: h11<0.15,>=0.13 in /Users/kientran/Apps/OPT-RAG/rag-opt/lib/python3.13/site-packages (from httpcore==1.*->httpx<1,>=0.23.0->langsmith<0.4,>=0.1.17->langchain) (0.14.0)\n",
      "Requirement already satisfied: jsonpointer>=1.9 in /Users/kientran/Apps/OPT-RAG/rag-opt/lib/python3.13/site-packages (from jsonpatch<2.0,>=1.33->langchain-core<1.0.0,>=0.3.55->langchain) (3.0.0)\n",
      "Requirement already satisfied: sniffio>=1.1 in /Users/kientran/Apps/OPT-RAG/rag-opt/lib/python3.13/site-packages (from anyio->httpx<1,>=0.23.0->langsmith<0.4,>=0.1.17->langchain) (1.3.1)\n",
      "\n",
      "\u001b[1m[\u001b[0m\u001b[34;49mnotice\u001b[0m\u001b[1;39;49m]\u001b[0m\u001b[39;49m A new release of pip is available: \u001b[0m\u001b[31;49m24.3.1\u001b[0m\u001b[39;49m -> \u001b[0m\u001b[32;49m25.0.1\u001b[0m\n",
      "\u001b[1m[\u001b[0m\u001b[34;49mnotice\u001b[0m\u001b[1;39;49m]\u001b[0m\u001b[39;49m To update, run: \u001b[0m\u001b[32;49mpip install --upgrade pip\u001b[0m\n",
      "Note: you may need to restart the kernel to use updated packages.\n"
     ]
    },
    {
     "name": "stderr",
     "output_type": "stream",
     "text": [
      "huggingface/tokenizers: The current process just got forked, after parallelism has already been used. Disabling parallelism to avoid deadlocks...\n",
      "To disable this warning, you can either:\n",
      "\t- Avoid using `tokenizers` before the fork if possible\n",
      "\t- Explicitly set the environment variable TOKENIZERS_PARALLELISM=(true | false)\n"
     ]
    },
    {
     "name": "stdout",
     "output_type": "stream",
     "text": [
      "\n",
      "\u001b[1m[\u001b[0m\u001b[34;49mnotice\u001b[0m\u001b[1;39;49m]\u001b[0m\u001b[39;49m A new release of pip is available: \u001b[0m\u001b[31;49m24.3.1\u001b[0m\u001b[39;49m -> \u001b[0m\u001b[32;49m25.0.1\u001b[0m\n",
      "\u001b[1m[\u001b[0m\u001b[34;49mnotice\u001b[0m\u001b[1;39;49m]\u001b[0m\u001b[39;49m To update, run: \u001b[0m\u001b[32;49mpip install --upgrade pip\u001b[0m\n",
      "Note: you may need to restart the kernel to use updated packages.\n"
     ]
    },
    {
     "name": "stderr",
     "output_type": "stream",
     "text": [
      "huggingface/tokenizers: The current process just got forked, after parallelism has already been used. Disabling parallelism to avoid deadlocks...\n",
      "To disable this warning, you can either:\n",
      "\t- Avoid using `tokenizers` before the fork if possible\n",
      "\t- Explicitly set the environment variable TOKENIZERS_PARALLELISM=(true | false)\n"
     ]
    },
    {
     "name": "stdout",
     "output_type": "stream",
     "text": [
      "Requirement already satisfied: torch in /Users/kientran/Apps/OPT-RAG/rag-opt/lib/python3.13/site-packages (2.7.0)\n",
      "Requirement already satisfied: torchvision in /Users/kientran/Apps/OPT-RAG/rag-opt/lib/python3.13/site-packages (0.22.0)\n",
      "Requirement already satisfied: filelock in /Users/kientran/Apps/OPT-RAG/rag-opt/lib/python3.13/site-packages (from torch) (3.18.0)\n",
      "Requirement already satisfied: typing-extensions>=4.10.0 in /Users/kientran/Apps/OPT-RAG/rag-opt/lib/python3.13/site-packages (from torch) (4.13.2)\n",
      "Requirement already satisfied: setuptools in /Users/kientran/Apps/OPT-RAG/rag-opt/lib/python3.13/site-packages (from torch) (79.0.0)\n",
      "Requirement already satisfied: sympy>=1.13.3 in /Users/kientran/Apps/OPT-RAG/rag-opt/lib/python3.13/site-packages (from torch) (1.13.3)\n",
      "Requirement already satisfied: networkx in /Users/kientran/Apps/OPT-RAG/rag-opt/lib/python3.13/site-packages (from torch) (3.4.2)\n",
      "Requirement already satisfied: jinja2 in /Users/kientran/Apps/OPT-RAG/rag-opt/lib/python3.13/site-packages (from torch) (3.1.6)\n",
      "Requirement already satisfied: fsspec in /Users/kientran/Apps/OPT-RAG/rag-opt/lib/python3.13/site-packages (from torch) (2025.3.2)\n",
      "Requirement already satisfied: numpy in /Users/kientran/Apps/OPT-RAG/rag-opt/lib/python3.13/site-packages (from torchvision) (2.2.5)\n",
      "Requirement already satisfied: pillow!=8.3.*,>=5.3.0 in /Users/kientran/Apps/OPT-RAG/rag-opt/lib/python3.13/site-packages (from torchvision) (11.2.1)\n",
      "Requirement already satisfied: mpmath<1.4,>=1.1.0 in /Users/kientran/Apps/OPT-RAG/rag-opt/lib/python3.13/site-packages (from sympy>=1.13.3->torch) (1.3.0)\n",
      "Requirement already satisfied: MarkupSafe>=2.0 in /Users/kientran/Apps/OPT-RAG/rag-opt/lib/python3.13/site-packages (from jinja2->torch) (3.0.2)\n",
      "\n",
      "\u001b[1m[\u001b[0m\u001b[34;49mnotice\u001b[0m\u001b[1;39;49m]\u001b[0m\u001b[39;49m A new release of pip is available: \u001b[0m\u001b[31;49m24.3.1\u001b[0m\u001b[39;49m -> \u001b[0m\u001b[32;49m25.0.1\u001b[0m\n",
      "\u001b[1m[\u001b[0m\u001b[34;49mnotice\u001b[0m\u001b[1;39;49m]\u001b[0m\u001b[39;49m To update, run: \u001b[0m\u001b[32;49mpip install --upgrade pip\u001b[0m\n",
      "Note: you may need to restart the kernel to use updated packages.\n"
     ]
    },
    {
     "name": "stderr",
     "output_type": "stream",
     "text": [
      "huggingface/tokenizers: The current process just got forked, after parallelism has already been used. Disabling parallelism to avoid deadlocks...\n",
      "To disable this warning, you can either:\n",
      "\t- Avoid using `tokenizers` before the fork if possible\n",
      "\t- Explicitly set the environment variable TOKENIZERS_PARALLELISM=(true | false)\n"
     ]
    },
    {
     "name": "stdout",
     "output_type": "stream",
     "text": [
      "Requirement already satisfied: sentence-transformers in /Users/kientran/Apps/OPT-RAG/rag-opt/lib/python3.13/site-packages (4.1.0)\n",
      "Requirement already satisfied: transformers<5.0.0,>=4.41.0 in /Users/kientran/Apps/OPT-RAG/rag-opt/lib/python3.13/site-packages (from sentence-transformers) (4.51.3)\n",
      "Requirement already satisfied: tqdm in /Users/kientran/Apps/OPT-RAG/rag-opt/lib/python3.13/site-packages (from sentence-transformers) (4.67.1)\n",
      "Requirement already satisfied: torch>=1.11.0 in /Users/kientran/Apps/OPT-RAG/rag-opt/lib/python3.13/site-packages (from sentence-transformers) (2.7.0)\n",
      "Requirement already satisfied: scikit-learn in /Users/kientran/Apps/OPT-RAG/rag-opt/lib/python3.13/site-packages (from sentence-transformers) (1.6.1)\n",
      "Requirement already satisfied: scipy in /Users/kientran/Apps/OPT-RAG/rag-opt/lib/python3.13/site-packages (from sentence-transformers) (1.15.2)\n",
      "Requirement already satisfied: huggingface-hub>=0.20.0 in /Users/kientran/Apps/OPT-RAG/rag-opt/lib/python3.13/site-packages (from sentence-transformers) (0.30.2)\n",
      "Requirement already satisfied: Pillow in /Users/kientran/Apps/OPT-RAG/rag-opt/lib/python3.13/site-packages (from sentence-transformers) (11.2.1)\n",
      "Requirement already satisfied: typing_extensions>=4.5.0 in /Users/kientran/Apps/OPT-RAG/rag-opt/lib/python3.13/site-packages (from sentence-transformers) (4.13.2)\n",
      "Requirement already satisfied: filelock in /Users/kientran/Apps/OPT-RAG/rag-opt/lib/python3.13/site-packages (from huggingface-hub>=0.20.0->sentence-transformers) (3.18.0)\n",
      "Requirement already satisfied: fsspec>=2023.5.0 in /Users/kientran/Apps/OPT-RAG/rag-opt/lib/python3.13/site-packages (from huggingface-hub>=0.20.0->sentence-transformers) (2025.3.2)\n",
      "Requirement already satisfied: packaging>=20.9 in /Users/kientran/Apps/OPT-RAG/rag-opt/lib/python3.13/site-packages (from huggingface-hub>=0.20.0->sentence-transformers) (24.2)\n",
      "Requirement already satisfied: pyyaml>=5.1 in /Users/kientran/Apps/OPT-RAG/rag-opt/lib/python3.13/site-packages (from huggingface-hub>=0.20.0->sentence-transformers) (6.0.2)\n",
      "Requirement already satisfied: requests in /Users/kientran/Apps/OPT-RAG/rag-opt/lib/python3.13/site-packages (from huggingface-hub>=0.20.0->sentence-transformers) (2.32.3)\n",
      "Requirement already satisfied: setuptools in /Users/kientran/Apps/OPT-RAG/rag-opt/lib/python3.13/site-packages (from torch>=1.11.0->sentence-transformers) (79.0.0)\n",
      "Requirement already satisfied: sympy>=1.13.3 in /Users/kientran/Apps/OPT-RAG/rag-opt/lib/python3.13/site-packages (from torch>=1.11.0->sentence-transformers) (1.13.3)\n",
      "Requirement already satisfied: networkx in /Users/kientran/Apps/OPT-RAG/rag-opt/lib/python3.13/site-packages (from torch>=1.11.0->sentence-transformers) (3.4.2)\n",
      "Requirement already satisfied: jinja2 in /Users/kientran/Apps/OPT-RAG/rag-opt/lib/python3.13/site-packages (from torch>=1.11.0->sentence-transformers) (3.1.6)\n",
      "Requirement already satisfied: numpy>=1.17 in /Users/kientran/Apps/OPT-RAG/rag-opt/lib/python3.13/site-packages (from transformers<5.0.0,>=4.41.0->sentence-transformers) (2.2.5)\n",
      "Requirement already satisfied: regex!=2019.12.17 in /Users/kientran/Apps/OPT-RAG/rag-opt/lib/python3.13/site-packages (from transformers<5.0.0,>=4.41.0->sentence-transformers) (2024.11.6)\n",
      "Requirement already satisfied: tokenizers<0.22,>=0.21 in /Users/kientran/Apps/OPT-RAG/rag-opt/lib/python3.13/site-packages (from transformers<5.0.0,>=4.41.0->sentence-transformers) (0.21.1)\n",
      "Requirement already satisfied: safetensors>=0.4.3 in /Users/kientran/Apps/OPT-RAG/rag-opt/lib/python3.13/site-packages (from transformers<5.0.0,>=4.41.0->sentence-transformers) (0.5.3)\n",
      "Requirement already satisfied: joblib>=1.2.0 in /Users/kientran/Apps/OPT-RAG/rag-opt/lib/python3.13/site-packages (from scikit-learn->sentence-transformers) (1.4.2)\n",
      "Requirement already satisfied: threadpoolctl>=3.1.0 in /Users/kientran/Apps/OPT-RAG/rag-opt/lib/python3.13/site-packages (from scikit-learn->sentence-transformers) (3.6.0)\n",
      "Requirement already satisfied: mpmath<1.4,>=1.1.0 in /Users/kientran/Apps/OPT-RAG/rag-opt/lib/python3.13/site-packages (from sympy>=1.13.3->torch>=1.11.0->sentence-transformers) (1.3.0)\n",
      "Requirement already satisfied: MarkupSafe>=2.0 in /Users/kientran/Apps/OPT-RAG/rag-opt/lib/python3.13/site-packages (from jinja2->torch>=1.11.0->sentence-transformers) (3.0.2)\n",
      "Requirement already satisfied: charset-normalizer<4,>=2 in /Users/kientran/Apps/OPT-RAG/rag-opt/lib/python3.13/site-packages (from requests->huggingface-hub>=0.20.0->sentence-transformers) (3.4.1)\n",
      "Requirement already satisfied: idna<4,>=2.5 in /Users/kientran/Apps/OPT-RAG/rag-opt/lib/python3.13/site-packages (from requests->huggingface-hub>=0.20.0->sentence-transformers) (3.10)\n",
      "Requirement already satisfied: urllib3<3,>=1.21.1 in /Users/kientran/Apps/OPT-RAG/rag-opt/lib/python3.13/site-packages (from requests->huggingface-hub>=0.20.0->sentence-transformers) (2.4.0)\n",
      "Requirement already satisfied: certifi>=2017.4.17 in /Users/kientran/Apps/OPT-RAG/rag-opt/lib/python3.13/site-packages (from requests->huggingface-hub>=0.20.0->sentence-transformers) (2025.1.31)\n",
      "\n",
      "\u001b[1m[\u001b[0m\u001b[34;49mnotice\u001b[0m\u001b[1;39;49m]\u001b[0m\u001b[39;49m A new release of pip is available: \u001b[0m\u001b[31;49m24.3.1\u001b[0m\u001b[39;49m -> \u001b[0m\u001b[32;49m25.0.1\u001b[0m\n",
      "\u001b[1m[\u001b[0m\u001b[34;49mnotice\u001b[0m\u001b[1;39;49m]\u001b[0m\u001b[39;49m To update, run: \u001b[0m\u001b[32;49mpip install --upgrade pip\u001b[0m\n",
      "Note: you may need to restart the kernel to use updated packages.\n"
     ]
    }
   ],
   "source": [
    "%pip install langchain\n",
    "%pip install -qU langchain-community faiss-cpu\n",
    "\n",
    "\n",
    "%pip install torch torchvision\n",
    "%pip install -U sentence-transformers\n"
   ]
  },
  {
   "cell_type": "code",
   "execution_count": 1,
   "metadata": {},
   "outputs": [
    {
     "name": "stdout",
     "output_type": "stream",
     "text": [
      "\n",
      "\u001b[1m[\u001b[0m\u001b[34;49mnotice\u001b[0m\u001b[1;39;49m]\u001b[0m\u001b[39;49m A new release of pip is available: \u001b[0m\u001b[31;49m24.3.1\u001b[0m\u001b[39;49m -> \u001b[0m\u001b[32;49m25.0.1\u001b[0m\n",
      "\u001b[1m[\u001b[0m\u001b[34;49mnotice\u001b[0m\u001b[1;39;49m]\u001b[0m\u001b[39;49m To update, run: \u001b[0m\u001b[32;49mpip install --upgrade pip\u001b[0m\n",
      "Note: you may need to restart the kernel to use updated packages.\n",
      "\n",
      "\u001b[1m[\u001b[0m\u001b[34;49mnotice\u001b[0m\u001b[1;39;49m]\u001b[0m\u001b[39;49m A new release of pip is available: \u001b[0m\u001b[31;49m24.3.1\u001b[0m\u001b[39;49m -> \u001b[0m\u001b[32;49m25.0.1\u001b[0m\n",
      "\u001b[1m[\u001b[0m\u001b[34;49mnotice\u001b[0m\u001b[1;39;49m]\u001b[0m\u001b[39;49m To update, run: \u001b[0m\u001b[32;49mpip install --upgrade pip\u001b[0m\n",
      "Note: you may need to restart the kernel to use updated packages.\n"
     ]
    }
   ],
   "source": [
    "%pip install --quiet --upgrade langchain-text-splitters langchain-community langgraph\n",
    "\n",
    "%pip install -qU langchain_ollama\n",
    "\n"
   ]
  },
  {
   "cell_type": "code",
   "execution_count": null,
   "metadata": {},
   "outputs": [
    {
     "name": "stdout",
     "output_type": "stream",
     "text": [
      "\n",
      "\u001b[1m[\u001b[0m\u001b[34;49mnotice\u001b[0m\u001b[1;39;49m]\u001b[0m\u001b[39;49m A new release of pip is available: \u001b[0m\u001b[31;49m24.3.1\u001b[0m\u001b[39;49m -> \u001b[0m\u001b[32;49m25.0.1\u001b[0m\n",
      "\u001b[1m[\u001b[0m\u001b[34;49mnotice\u001b[0m\u001b[1;39;49m]\u001b[0m\u001b[39;49m To update, run: \u001b[0m\u001b[32;49mpip install --upgrade pip\u001b[0m\n",
      "Note: you may need to restart the kernel to use updated packages.\n",
      "\n",
      "\u001b[1m[\u001b[0m\u001b[34;49mnotice\u001b[0m\u001b[1;39;49m]\u001b[0m\u001b[39;49m A new release of pip is available: \u001b[0m\u001b[31;49m24.3.1\u001b[0m\u001b[39;49m -> \u001b[0m\u001b[32;49m25.0.1\u001b[0m\n",
      "\u001b[1m[\u001b[0m\u001b[34;49mnotice\u001b[0m\u001b[1;39;49m]\u001b[0m\u001b[39;49m To update, run: \u001b[0m\u001b[32;49mpip install --upgrade pip\u001b[0m\n",
      "Note: you may need to restart the kernel to use updated packages.\n"
     ]
    }
   ],
   "source": [
    "%pip install -qU langchain_ollama\n",
    "%pip install -qU pypdf\n",
    "\n",
    "\n"
   ]
  },
  {
   "cell_type": "code",
   "execution_count": 19,
   "metadata": {},
   "outputs": [
    {
     "name": "stdout",
     "output_type": "stream",
     "text": [
      "MPS is available\n",
      "Using mps for hardware acceleration\n"
     ]
    }
   ],
   "source": [
    "import torch \n",
    "\n",
    "# For those with NVIDIA graphics card\n",
    "torch.cuda.is_available()\n",
    "\n",
    "# Apple alternative \n",
    "torch.backends.mps.is_available()\n",
    "\n",
    "if torch.cuda.is_available():\n",
    "    print(\"CUDA is available\")\n",
    "    hardware = \"cuda\"\n",
    "\n",
    "elif torch.backends.mps.is_available():\n",
    "    print(\"MPS is available\")\n",
    "    hardware = \"mps\"\n",
    "\n",
    "print(f\"Using {hardware} for hardware acceleration\")\n"
   ]
  },
  {
   "cell_type": "code",
   "execution_count": 1,
   "metadata": {},
   "outputs": [
    {
     "name": "stdout",
     "output_type": "stream",
     "text": [
      "The capital of Vietnam is Hanoi.\n"
     ]
    }
   ],
   "source": [
    "from langchain_ollama import OllamaLLM\n",
    "\n",
    "llm = OllamaLLM(model=\"qwen2.5:1.5b\")\n",
    "\n",
    "response = llm.invoke(\"What is the capital of Vietnam?\")\n",
    "\n",
    "print(response)"
   ]
  },
  {
   "cell_type": "code",
   "execution_count": 32,
   "metadata": {},
   "outputs": [
    {
     "name": "stdout",
     "output_type": "stream",
     "text": [
      "Number of chunks:  122\n",
      "<class 'str'>\n"
     ]
    }
   ],
   "source": [
    "from langchain_community.document_loaders import PyPDFLoader, PyPDFDirectoryLoader\n",
    "from langchain_text_splitters import RecursiveCharacterTextSplitter\n",
    "\n",
    "\n",
    "# files = [\"berkeley_opt.pdf\", \"uscis_opt.pdf\"]\n",
    "loader = PyPDFDirectoryLoader(\"../examples\")\n",
    "pages = []\n",
    "async for page in loader.alazy_load():\n",
    "    pages.append(page)\n",
    "\n",
    "text_splitter = RecursiveCharacterTextSplitter(\n",
    "    chunk_size=1000, # 1000 characters per chunk\n",
    "    chunk_overlap=200 # 200 characters overlap between chunks\n",
    ")\n",
    "\n",
    "chunks = []\n",
    "\n",
    "for page in pages:\n",
    "    chunk_list = text_splitter.split_text(page.page_content)\n",
    "    for chunk in chunk_list:\n",
    "        chunks.append(chunk)\n",
    "print(\"Number of chunks: \", len(chunks))\n",
    "\n",
    "print(type(chunks[1]))\n"
   ]
  },
  {
   "cell_type": "markdown",
   "metadata": {},
   "source": [
    "## Create Vector Database \n",
    "### Cache Setup"
   ]
  },
  {
   "cell_type": "code",
   "execution_count": 21,
   "metadata": {},
   "outputs": [],
   "source": [
    "import os \n",
    "import hashlib \n",
    "from langchain.embeddings import HuggingFaceEmbeddings \n",
    "from langchain.vectorstores import FAISS \n",
    "\n",
    "\n",
    "def compute_document_hash(text_chunks: list, embedding_model: str) -> str:\n",
    "    \"\"\"\n",
    "    Compute a hash of the document content using the model name.\n",
    "    Args: \n",
    "        text_chunks: list of text chunks\n",
    "        embedding_model: name of the embedding model\n",
    "    Returns:\n",
    "        hash of the document content\n",
    "    \"\"\"\n",
    "\n",
    "    content = \"\".join(text_chunks) + embedding_model \n",
    "    return hashlib.sha256(content.encode()).hexdigest()[:16]\n",
    "\n",
    "\n",
    "def create_or_load_vector_store(chunks: list, embeddings: HuggingFaceEmbeddings, cache_dir: str) -> FAISS:\n",
    "    \"\"\" Retrieves a vector store from a list of text chunks using the given embeddings. \n",
    "    \n",
    "    Args: \n",
    "        chunks: list of text chunks\n",
    "        embeddings: embeddings model\n",
    "        cache_dir: directory to save the vector store\n",
    "    Returns:\n",
    "        FAISS object\n",
    "    \"\"\"\n",
    "\n",
    "    os.makedirs(cache_dir, exist_ok=True)\n",
    "\n",
    "\n",
    "    embedding_model_name = embeddings.model_name\n",
    "    current_hash = compute_document_hash(chunks, embedding_model_name)\n",
    "\n",
    "    # Check if cached index exists and contains a valid path \n",
    "    hash_file = os.path.join(cache_dir, \"content_hash.txt\")\n",
    "    index_file = os.path.join(cache_dir, \"index.faiss\")\n",
    "\n",
    "    if os.path.exists(index_file) and os.path.exists(hash_file):\n",
    "        with open(hash_file, \"r\") as f:\n",
    "            cached_hash = f.read().strip()\n",
    "\n",
    "            if current_hash == cached_hash:\n",
    "                print(\"Loading cached FAISS index for document retrieval\")\n",
    "                return FAISS.load_local(\n",
    "                    folder_path= cache_dir,\n",
    "                    embeddings=embeddings,\n",
    "                    allow_dangerous_deserialization=True\n",
    "                )\n",
    "            \n",
    "            else:\n",
    "                print(\"Cache invalidated: Documents and embeddings have changed.\")\n",
    "                print(\"Rebuilding vector store for updated documents...\")\n",
    "\n",
    "                # Delete existing index and hash file \n",
    "                for file in os.listdir(cache_dir):\n",
    "                    os.remove(os.path.join(cache_dir, file))\n",
    "    else:\n",
    "        print(\"No valid cache found. Creating new vector store...\")\n",
    "\n",
    "    \n",
    "    # Save the new index and hash file \n",
    "    print(f\"Creating a new vector store with {len(chunks)} document chunks...\")\n",
    "    vector_store = FAISS.from_texts(chunks, embedding = embeddings)\n",
    "\n",
    "    # Save the new index and hash\n",
    "    vector_store.save_local(cache_dir)\n",
    "    with open(hash_file, \"w\") as f:\n",
    "        f.write(current_hash)\n",
    "    \n",
    "    print(\"Vector store created and cached successfully!\")\n",
    "\n",
    "    return vector_store\n"
   ]
  },
  {
   "cell_type": "markdown",
   "metadata": {},
   "source": [
    "### Retriever Setup"
   ]
  },
  {
   "cell_type": "code",
   "execution_count": 38,
   "metadata": {},
   "outputs": [
    {
     "name": "stdout",
     "output_type": "stream",
     "text": [
      "No valid cache found. Creating new vector store...\n",
      "Creating a new vector store with 122 document chunks...\n",
      "Vector store created and cached successfully!\n",
      "[Document(id='990685ef-d0e3-4613-a3e9-4c539fca8297', metadata={}, page_content='Home>Working in the United States>Students and Exchange Visitors>Optional Practical Training (OPT)\\nfor F-1 Students\\nOptional Practical Training (OPT) for F-1\\nStudents\\n\\uf05aALERT: Please remember that photos submitted to USCIS must be unmounted and unretouched.\\nUnretouched means the photos must not be edited or digitally enhanced.\\xa0The submission of any\\nmounted or retouched images will delay the processing of your application and may prompt USCIS\\nto require you to visit an Application Support Center to verify your identity.\\nOptional practical training (OPT) is temporary employment that is directly related to an F-1 studentʼs major\\narea of study. Eligible students can apply to receive up to 12 months of OPT employment authorization before\\ncompleting their academic studies (pre-completion) and/or after completing their academic studies (post-\\ncompletion). However, all periods of pre-completion OPT will be deducted from the available period of post-\\ncompletion OPT.\\nTypes of OPT'), Document(id='af631c0d-9394-43a5-bc47-377f14882997', metadata={}, page_content='Must apply within 60 days after your DSO enters the\\nrecommendation for OPT into your SEVIS record, and\\nMay apply up to 90 days before your current OPT\\nemployment authorization expires.\\n4/23/25, 4:47 PM Optional Practical Training (OPT) for F-1 Students | USCIS\\nhttps://www.uscis.gov/working-in-the-united-states/students-and-exchange-visitors/optional-practical-training-opt-for-f-1-students 3/5')]\n"
     ]
    }
   ],
   "source": [
    "embeddings = HuggingFaceEmbeddings(\n",
    "    model_name = \"sentence-transformers/all-MiniLM-L6-v2\",\n",
    "    model_kwargs = {\"device\": hardware}\n",
    ")\n",
    "\n",
    "vector_store = create_or_load_vector_store(chunks, embeddings, \"../vector_store\")\n",
    "\n",
    "query = \"What is OPT and if when should an international student apply for it?\"\n",
    "results = vector_store.search(query, k = 2, search_type = \"similarity\")\n",
    "print(results)\n",
    "\n",
    "retriever = vector_store.as_retriever(\n",
    "    search_type=\"similarity\",\n",
    "    search_kwargs={\"k\":2}\n",
    "j)"
   ]
  },
  {
   "cell_type": "code",
   "execution_count": 40,
   "metadata": {},
   "outputs": [
    {
     "name": "stdout",
     "output_type": "stream",
     "text": [
      "Home>Working in the United States>Students and Exchange Visitors>Optional Practical Training (OPT)\n",
      "for F-1 Students\n",
      "Optional Practical Training (OPT) for F-1\n",
      "Students\n",
      "ALERT: Please remember that photos submitted to USCIS must be unmounted and unretouched.\n",
      "Unretouched means the photos must not be edited or digitally enhanced. The submission of any\n",
      "mounted or retouched images will delay the processing of your application and may prompt USCIS\n",
      "to require you to visit an Application Support Center to verify your identity.\n",
      "Optional practical training (OPT) is temporary employment that is directly related to an F-1 studentʼs major\n",
      "area of study. Eligible students can apply to receive up to 12 months of OPT employment authorization before\n",
      "completing their academic studies (pre-completion) and/or after completing their academic studies (post-\n",
      "completion). However, all periods of pre-completion OPT will be deducted from the available period of post-\n",
      "completion OPT.\n",
      "Types of OPT\n",
      "\n",
      "\n",
      "Must apply within 60 days after your DSO enters the\n",
      "recommendation for OPT into your SEVIS record, and\n",
      "May apply up to 90 days before your current OPT\n",
      "employment authorization expires.\n",
      "4/23/25, 4:47 PM Optional Practical Training (OPT) for F-1 Students | USCIS\n",
      "https://www.uscis.gov/working-in-the-united-states/students-and-exchange-visitors/optional-practical-training-opt-for-f-1-students 3/5\n",
      "\n",
      "\n"
     ]
    }
   ],
   "source": [
    "for i, result in enumerate(results):\n",
    "    print(f\"Result {i+1}:\")\n",
    "    print(result.page_content)\n",
    "    print(\"\\n\")\n",
    "\n",
    "\n"
   ]
  },
  {
   "cell_type": "code",
   "execution_count": null,
   "metadata": {},
   "outputs": [],
   "source": []
  }
 ],
 "metadata": {
  "kernelspec": {
   "display_name": "rag-opt",
   "language": "python",
   "name": "python3"
  },
  "language_info": {
   "codemirror_mode": {
    "name": "ipython",
    "version": 3
   },
   "file_extension": ".py",
   "mimetype": "text/x-python",
   "name": "python",
   "nbconvert_exporter": "python",
   "pygments_lexer": "ipython3",
   "version": "3.13.1"
  }
 },
 "nbformat": 4,
 "nbformat_minor": 2
}
